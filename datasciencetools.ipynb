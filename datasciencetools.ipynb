{
  "nbformat": 4,
  "nbformat_minor": 0,
  "metadata": {
    "colab": {
      "provenance": []
    },
    "kernelspec": {
      "name": "python3",
      "display_name": "Python 3"
    },
    "language_info": {
      "name": "python"
    }
  },
  "cells": [
    {
      "cell_type": "markdown",
      "source": [
        "# Data Science Notebook\n"
      ],
      "metadata": {
        "id": "YWHhb0e8XvFH"
      }
    },
    {
      "cell_type": "markdown",
      "source": [
        "## Introduction\n",
        "\n",
        "Welcome to this Data Science notebook! In this notebook, we will explore various data science concepts, languages, libraries, and tools. We'll perform data analysis, visualization, and implement machine learning models using popular programming languages and libraries. Let's dive into the exciting world of data science!\n"
      ],
      "metadata": {
        "id": "2ciAq90XX01G"
      }
    },
    {
      "cell_type": "markdown",
      "source": [
        "## Data Science Languages\n",
        "\n",
        "1. Python\n",
        "2. R\n",
        "3. SQL\n",
        "4. Java\n"
      ],
      "metadata": {
        "id": "Q4QGJkUiX-9w"
      }
    },
    {
      "cell_type": "markdown",
      "source": [
        "## Data Science Libraries\n",
        "\n",
        "1. Python: Pandas, NumPy, Matplotlib, Seaborn, Scikit-learn, TensorFlow, Keras\n",
        "2. R: ggplot2, dplyr, caret\n",
        "3. SQL: SQLAlchemy\n",
        "4. Java: Weka\n"
      ],
      "metadata": {
        "id": "RePekMG_YEZE"
      }
    },
    {
      "cell_type": "markdown",
      "source": [
        "## Data Science Tools\n",
        "\n",
        "| Language | Libraries                                            | Description                                                             |\n",
        "|----------|------------------------------------------------------|-------------------------------------------------------------------------|\n",
        "| Python   | Pandas, NumPy, Matplotlib, Seaborn, Scikit-learn, TensorFlow, Keras | Powerful data manipulation, analysis, visualization, and machine learning. |\n",
        "| R        | ggplot2, dplyr, caret                                | Data visualization, manipulation, and machine learning capabilities.     |\n",
        "| SQL      | SQLAlchemy                                           | SQL toolkit and Object-Relational Mapping (ORM) library.                 |\n",
        "| Java     | Weka                                                 | Collection of machine learning algorithms for data mining tasks.         |\n"
      ],
      "metadata": {
        "id": "eN2gF3F9YJho"
      }
    },
    {
      "cell_type": "markdown",
      "source": [
        "## Arithmetic Expression Examples\n",
        "\n",
        "Arithmetic expressions involve mathematical operations such as addition, subtraction, multiplication, and division. We can use these expressions to perform various calculations and solve problems in data science and beyond.\n"
      ],
      "metadata": {
        "id": "BFzF8s-gYN8r"
      }
    },
    {
      "cell_type": "markdown",
      "source": [
        "# Code Cell - Multiplication and Addition\n"
      ],
      "metadata": {
        "id": "DgXmnFA1YRNv"
      }
    },
    {
      "cell_type": "code",
      "source": [
        "\n",
        "a = 5\n",
        "b = 3\n",
        "c = a * b\n",
        "d = a + b\n",
        "print(\"Multiplication:\", c)\n",
        "print(\"Addition:\", d)\n"
      ],
      "metadata": {
        "colab": {
          "base_uri": "https://localhost:8080/"
        },
        "id": "sSb0FoSmfNQj",
        "outputId": "59270a20-4126-4ecf-fffc-a9dc52c808fb"
      },
      "execution_count": null,
      "outputs": [
        {
          "output_type": "stream",
          "name": "stdout",
          "text": [
            "Multiplication: 15\n",
            "Addition: 8\n"
          ]
        }
      ]
    },
    {
      "cell_type": "markdown",
      "source": [
        "# Code Cell - Convert Minutes to Hours\n"
      ],
      "metadata": {
        "id": "oBbqCk4RYXRv"
      }
    },
    {
      "cell_type": "code",
      "source": [
        "minutes = 150\n",
        "hours = minutes / 60\n",
        "print(\"150 minutes is equal to\", hours, \"hours.\")\n"
      ],
      "metadata": {
        "colab": {
          "base_uri": "https://localhost:8080/"
        },
        "id": "keS26Dfrfday",
        "outputId": "ce4d9cd0-c9b0-4d1f-d448-4103b4ff1473"
      },
      "execution_count": null,
      "outputs": [
        {
          "output_type": "stream",
          "name": "stdout",
          "text": [
            "150 minutes is equal to 2.5 hours.\n"
          ]
        }
      ]
    },
    {
      "cell_type": "markdown",
      "source": [
        "## Objectives\n",
        "\n",
        "In this notebook, we aim to:\n",
        "\n",
        "1. Explore various data science languages and their applications.\n",
        "2. Introduce common data science libraries and their functionalities.\n",
        "3. Create visualizations to gain insights from data.\n",
        "4. Implement machine learning models for prediction and classification tasks.\n",
        "5. Demonstrate arithmetic expressions and basic mathematical operations.\n",
        "6. Showcase data science tools to enhance productivity and efficiency.\n"
      ],
      "metadata": {
        "id": "KkZWUc7kYdv0"
      }
    },
    {
      "cell_type": "markdown",
      "source": [
        "## Author\n",
        "\n",
        "[Megha Gupta]"
      ],
      "metadata": {
        "id": "5fwEgSpvYoNb"
      }
    },
    {
      "cell_type": "code",
      "source": [],
      "metadata": {
        "id": "wEum6pz8Yosy"
      },
      "execution_count": null,
      "outputs": []
    }
  ]
}